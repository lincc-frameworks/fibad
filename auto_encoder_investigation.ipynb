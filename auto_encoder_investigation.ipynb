{
 "cells": [
  {
   "cell_type": "code",
   "execution_count": null,
   "metadata": {},
   "outputs": [],
   "source": [
    "def conv2d_output_size(input_size, kernel_size, padding=0, stride=1, dilation=1) -> int:\n",
    "    # From https://pytorch.org/docs/stable/generated/torch.nn.Conv2d.html\n",
    "    numerator = input_size + 2 * padding - dilation * (kernel_size - 1) - 1\n",
    "    return int((numerator / stride) + 1)"
   ]
  },
  {
   "cell_type": "code",
   "execution_count": null,
   "metadata": {},
   "outputs": [],
   "source": [
    "image_size = 262\n",
    "one_app_size = conv2d_output_size(image_size, 3, 1, 2)\n",
    "\n",
    "print(f\"Output size for one application: {one_app_size}\")\n",
    "\n",
    "two_app_size = conv2d_output_size(one_app_size, 3, 1, 2)\n",
    "print(f\"Output size for two applications: {two_app_size}\")\n",
    "\n",
    "three_app_size = conv2d_output_size(two_app_size, 3, 1, 2)\n",
    "print(f\"Output size for three applications: {three_app_size}\")"
   ]
  },
  {
   "cell_type": "code",
   "execution_count": null,
   "metadata": {},
   "outputs": [],
   "source": [
    "264 * 264"
   ]
  },
  {
   "cell_type": "code",
   "execution_count": null,
   "metadata": {},
   "outputs": [],
   "source": [
    "33 * 33"
   ]
  },
  {
   "cell_type": "code",
   "execution_count": null,
   "metadata": {},
   "outputs": [],
   "source": [
    "def conv2d_multi_layer(input_size, num_applications, **kwargs) -> int:\n",
    "    for _ in range(num_applications):\n",
    "        input_size = conv2d_output_size(input_size, **kwargs)\n",
    "\n",
    "    return input_size"
   ]
  },
  {
   "cell_type": "code",
   "execution_count": null,
   "metadata": {},
   "outputs": [],
   "source": [
    "conv2d_multi_layer(image_size, 3, kernel_size=3, padding=1, stride=2)"
   ]
  },
  {
   "cell_type": "code",
   "execution_count": null,
   "metadata": {},
   "outputs": [],
   "source": [
    "import torch.nn as nn\n",
    "import torch"
   ]
  },
  {
   "cell_type": "code",
   "execution_count": null,
   "metadata": {},
   "outputs": [],
   "source": [
    "layers = 32\n",
    "o = nn.Conv2d(1, layers, kernel_size=3, padding=1, stride=2)\n",
    "e = o(torch.ones(1, 262, 262))\n",
    "print(e.shape)"
   ]
  },
  {
   "cell_type": "code",
   "execution_count": null,
   "metadata": {},
   "outputs": [],
   "source": [
    "o = nn.Conv2d(32, 32, kernel_size=3, padding=1)\n",
    "o(torch.rand(32, 131, 131)).shape"
   ]
  },
  {
   "cell_type": "code",
   "execution_count": null,
   "metadata": {},
   "outputs": [],
   "source": [
    "o = nn.Conv2d(32, 2 * 32, kernel_size=3, padding=1, stride=2)\n",
    "o(torch.rand(32, 131, 131)).shape"
   ]
  },
  {
   "cell_type": "code",
   "execution_count": null,
   "metadata": {},
   "outputs": [],
   "source": [
    "o = nn.Conv2d(2 * 32, 2 * 32, kernel_size=3, padding=1)\n",
    "o(torch.rand(64, 66, 66)).shape"
   ]
  },
  {
   "cell_type": "code",
   "execution_count": null,
   "metadata": {},
   "outputs": [],
   "source": [
    "o = nn.Conv2d(2 * 32, 2 * 32, kernel_size=3, padding=1, stride=2)\n",
    "o(torch.rand(64, 66, 66)).shape"
   ]
  },
  {
   "cell_type": "code",
   "execution_count": null,
   "metadata": {},
   "outputs": [],
   "source": [
    "o = nn.Flatten()\n",
    "i = o(torch.rand(64, 33, 33))\n",
    "print(f\"Flattened shape {i.shape}\")\n",
    "o = nn.Linear(33 * 33, 64)\n",
    "o(i).shape\n",
    "print(o(i))"
   ]
  },
  {
   "cell_type": "code",
   "execution_count": null,
   "metadata": {},
   "outputs": [],
   "source": [
    "orig = torch.ones(1, 8, 8)\n",
    "print(f\"Original shape {orig.shape}\")\n",
    "print(orig)\n",
    "o = nn.Flatten()\n",
    "i = o(orig)\n",
    "print(f\"Flattened shape {i.shape}\")\n",
    "print(i)\n",
    "o = nn.Linear(8 * 8, 64)\n",
    "print(f\"Linearized shape {o(i).shape}\")\n",
    "print(o(i))"
   ]
  },
  {
   "cell_type": "code",
   "execution_count": null,
   "metadata": {},
   "outputs": [],
   "source": []
  }
 ],
 "metadata": {
  "kernelspec": {
   "display_name": "fibad",
   "language": "python",
   "name": "python3"
  },
  "language_info": {
   "codemirror_mode": {
    "name": "ipython",
    "version": 3
   },
   "file_extension": ".py",
   "mimetype": "text/x-python",
   "name": "python",
   "nbconvert_exporter": "python",
   "pygments_lexer": "ipython3",
   "version": "3.12.4"
  }
 },
 "nbformat": 4,
 "nbformat_minor": 2
}
