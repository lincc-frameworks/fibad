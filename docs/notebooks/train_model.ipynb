{
 "cells": [
  {
   "cell_type": "markdown",
   "metadata": {},
   "source": [
    "# Intro to Training and Configurations\n",
    "\n",
    "First we import fibad and create a new fibad object, instantiated (implicitly), with the default configuration file."
   ]
  },
  {
   "cell_type": "code",
   "execution_count": null,
   "metadata": {},
   "outputs": [],
   "source": [
    "import fibad\n",
    "\n",
    "fibad_instance = fibad.Fibad(config_file=\"./train_model_config.toml\")"
   ]
  },
  {
   "cell_type": "markdown",
   "metadata": {},
   "source": [
    "For this demo, we'll make a few adjustments to the default configuration settings that the `fibad` object was instantiated with. By accessing the `.config` attribute of the fibad instance, we can modify any configuration value. Here we change which built in model to use, the dataset, batch size, number of epochs for training."
   ]
  },
  {
   "cell_type": "code",
   "execution_count": null,
   "metadata": {},
   "outputs": [],
   "source": [
    "fibad_instance.config[\"model\"][\"name\"] = \"ExampleAutoencoder\"\n",
    "fibad_instance.config[\"data_set\"][\"name\"] = \"HSCDataSet\"\n",
    "fibad_instance.config[\"train\"][\"epochs\"] = 20"
   ]
  },
  {
   "cell_type": "markdown",
   "metadata": {},
   "source": [
    "We call the `.train()` method to train the model"
   ]
  },
  {
   "cell_type": "code",
   "execution_count": null,
   "metadata": {},
   "outputs": [],
   "source": [
    "fibad_instance.train()"
   ]
  },
  {
   "cell_type": "markdown",
   "metadata": {},
   "source": [
    "The output of the training will be stored in a time-stamped directory under the `./results/`. By default, a copy of the final configuration used in training is persisted as `runtime_config.toml`. To run fibad again with the same configuration, you can reference the runtime_config.toml file.\n",
    "\n",
    "If running in another notebook, instantiate a fibad object like so:\n",
    "```\n",
    "new_fibad_instance = fibad.Fibad(config_file='./results/<timestamped_directory>/runtime_config.toml')\n",
    "```\n",
    "\n",
    "Or from the command line:\n",
    "```\n",
    ">> fibad train --runtime-config ./results/<timestamped_directory>/runtime_config.toml\n",
    "```"
   ]
  },
  {
   "cell_type": "markdown",
   "metadata": {},
   "source": [
    "Fibad automatically records training metrics so that they can be examined using Tensorboard."
   ]
  },
  {
   "cell_type": "code",
   "execution_count": null,
   "metadata": {},
   "outputs": [],
   "source": [
    "%reload_ext tensorboard\n",
    "%tensorboard --logdir ./results\n",
    "\n",
    "# If you are running on a remote server and want to run tensorboard there;\n",
    "# you need to pass additional argments for port forwarding to work.\n",
    "# For example\n",
    "# %tensorboard --logdir ./results --bind_all --port 8888\n",
    "# will start tensorboard on port 8888 and you may need to forward that\n",
    "# port to your local machine using\n",
    "# ssh -N -L 8888:<name_of_machine>:8888 <username@server.com>"
   ]
  },
  {
   "cell_type": "markdown",
   "metadata": {},
   "source": [
    "Once a model has been trained, we can use the model weights file to run inference on. Here we update the configuration in the `fibad_instance` object to specify that we want to use a specific model weights file, and that we want our dataset to be 100% test data.\n",
    "\n",
    "If you are running this locally, you'll need to update the path to your local model weights file."
   ]
  },
  {
   "cell_type": "code",
   "execution_count": null,
   "metadata": {},
   "outputs": [],
   "source": [
    "# Set this to the path of the example.pth file that was created by the call to fibad_instance.train().\n",
    "# It should be something like `.../results/<timestamp>-train/example_model.pth`.\n",
    "# fibad_instance.config[\"infer\"][\"model_weights_file\"] = \"\"\n",
    "\n",
    "fibad_instance.config[\"data_set\"][\"test_size\"] = 1.0\n",
    "fibad_instance.config[\"data_set\"][\"train_size\"] = 0.0\n",
    "fibad_instance.config[\"data_set\"][\"validate_size\"] = 0.0\n",
    "fibad_instance.config[\"data_loader\"][\"batch_size\"] = 128"
   ]
  },
  {
   "cell_type": "markdown",
   "metadata": {},
   "source": [
    "The following will run inference on the specified dataset."
   ]
  },
  {
   "cell_type": "code",
   "execution_count": null,
   "metadata": {},
   "outputs": [],
   "source": [
    "# Uncomment the following line after setting the model_weights_file in the previous cell\n",
    "\n",
    "fibad_instance.infer()"
   ]
  },
  {
   "cell_type": "markdown",
   "metadata": {},
   "source": [
    "TODO: Add a cell to plot a confusion matrix."
   ]
  },
  {
   "cell_type": "code",
   "execution_count": null,
   "metadata": {},
   "outputs": [],
   "source": [
    "import chromadb\n",
    "import numpy as np\n",
    "\n",
    "# open a connection to the vector database\n",
    "from fibad.config_utils import find_most_recent_results_dir\n",
    "\n",
    "results_dir = find_most_recent_results_dir(fibad_instance.config, \"infer\")\n",
    "\n",
    "client = chromadb.PersistentClient(path=str(results_dir))\n",
    "collection = client.get_collection(\"fibad\")"
   ]
  },
  {
   "cell_type": "code",
   "execution_count": null,
   "metadata": {},
   "outputs": [],
   "source": [
    "print(f\"Total records in the vdb: {collection.count()}\")\n",
    "example_record = collection.get(ids=[\"40005764936385106\"], include=[\"embeddings\"])\n",
    "print(f\"First record: {example_record}\")\n",
    "\n",
    "print(f\"Shape of embedding: {example_record[\"embeddings\"].shape}\")"
   ]
  },
  {
   "cell_type": "code",
   "execution_count": null,
   "metadata": {},
   "outputs": [],
   "source": [
    "nearest_neighbors = collection.query(query_embeddings=example_record[\"embeddings\"], n_results=10)\n",
    "print(f\"Distance to nearest neighbors: {nearest_neighbors['distances']}\")\n",
    "median_dist_to_neighbors = np.median(nearest_neighbors[\"distances\"])\n",
    "print(f\"Median distance to neighbors: {median_dist_to_neighbors}\")"
   ]
  },
  {
   "cell_type": "code",
   "execution_count": null,
   "metadata": {},
   "outputs": [],
   "source": [
    "all_embeddings = collection.get(include=[\"embeddings\"])"
   ]
  },
  {
   "cell_type": "code",
   "execution_count": null,
   "metadata": {},
   "outputs": [],
   "source": [
    "all_nn = collection.query(query_embeddings=all_embeddings[\"embeddings\"], n_results=10)\n",
    "median_all_nn_dist = np.median(all_nn[\"distances\"], axis=1)"
   ]
  },
  {
   "cell_type": "code",
   "execution_count": null,
   "metadata": {},
   "outputs": [],
   "source": [
    "import matplotlib.pyplot as plt\n",
    "\n",
    "_ = plt.hist(median_all_nn_dist, bins=50)"
   ]
  },
  {
   "cell_type": "code",
   "execution_count": null,
   "metadata": {},
   "outputs": [],
   "source": [
    "indexes = [i for i, x in enumerate(median_all_nn_dist) if 4 < x]\n",
    "print(f\"Number of indexes: {len(indexes)}\")"
   ]
  },
  {
   "cell_type": "code",
   "execution_count": null,
   "metadata": {},
   "outputs": [],
   "source": [
    "anom_object_ids = []\n",
    "for indx in indexes:\n",
    "    anom_object_ids.append(all_embeddings[\"ids\"][indx])"
   ]
  },
  {
   "cell_type": "code",
   "execution_count": null,
   "metadata": {},
   "outputs": [],
   "source": [
    "import glob\n",
    "\n",
    "names = set()\n",
    "for anom_object_id in anom_object_ids:\n",
    "    found_files = glob.glob(\n",
    "        f\"/home/drew/code/fibad/docs/notebooks/data/hsc_example/hsc_8asec_1000/{anom_object_id}*.fits\"\n",
    "    )\n",
    "    for f in found_files:\n",
    "        print(f)\n",
    "        names.add(f[:-11])\n",
    "\n",
    "print(names)"
   ]
  },
  {
   "cell_type": "code",
   "execution_count": null,
   "metadata": {},
   "outputs": [],
   "source": [
    "from astropy.io import fits\n",
    "\n",
    "\n",
    "# Function to normalize the data to the range [0, 1]\n",
    "def normalize(data):\n",
    "    data_min = np.min(data)\n",
    "    data_max = np.max(data)\n",
    "    return (data - data_min) / (data_max - data_min)\n",
    "\n",
    "\n",
    "# Plot our 3 filter images\n",
    "def plotter(file_name):\n",
    "    # Read the FITS files\n",
    "    base_path = \"/home/drew/code/fibad/docs/notebooks/data/hsc_example/hsc_8asec_1000/\"\n",
    "    base_path = \"\"\n",
    "    fits_file_r = base_path + file_name + \"_HSC-I.fits\"\n",
    "    fits_file_g = base_path + file_name + \"_HSC-R.fits\"\n",
    "    fits_file_b = base_path + file_name + \"_HSC-G.fits\"\n",
    "\n",
    "    data_r = fits.getdata(fits_file_r)\n",
    "    data_g = fits.getdata(fits_file_g)\n",
    "    data_b = fits.getdata(fits_file_b)\n",
    "\n",
    "    # Normalize the data\n",
    "    data_r = normalize(data_r)\n",
    "    data_g = normalize(data_g)\n",
    "    data_b = normalize(data_b)\n",
    "\n",
    "    # Combine the data into an RGB image\n",
    "    rgb_image = np.zeros((data_r.shape[0], data_r.shape[1], 3))\n",
    "    rgb_image[..., 0] = data_r  # Red channel\n",
    "    rgb_image[..., 1] = data_g  # Green channel\n",
    "    rgb_image[..., 2] = data_b  # Blue channel\n",
    "\n",
    "    # Display the image\n",
    "    plt.imshow(rgb_image, origin=\"lower\")\n",
    "    plt.axis(\"off\")  # Hide the axis\n",
    "    plt.show()"
   ]
  },
  {
   "cell_type": "code",
   "execution_count": null,
   "metadata": {},
   "outputs": [],
   "source": [
    "for i in names:\n",
    "    plotter(i)"
   ]
  },
  {
   "cell_type": "code",
   "execution_count": null,
   "metadata": {},
   "outputs": [],
   "source": [
    "odd_one = collection.get(ids=[\"39921222800117211\"], include=[\"embeddings\"])"
   ]
  },
  {
   "cell_type": "code",
   "execution_count": null,
   "metadata": {},
   "outputs": [],
   "source": [
    "nearest_to_odd_one = collection.query(query_embeddings=odd_one[\"embeddings\"], n_results=5)\n",
    "print(f\"Number of neighbors: {nearest_to_odd_one['ids']}\")"
   ]
  },
  {
   "cell_type": "code",
   "execution_count": null,
   "metadata": {},
   "outputs": [],
   "source": [
    "names = set()\n",
    "for anom_object_id in nearest_to_odd_one[\"ids\"][0]:\n",
    "    found_files = glob.glob(\n",
    "        f\"/home/drew/code/fibad/docs/notebooks/data/hsc_example/hsc_8asec_1000/{anom_object_id}*.fits\"\n",
    "    )\n",
    "    for f in found_files:\n",
    "        print(f)\n",
    "        names.add(f[:-11])\n",
    "\n",
    "print(names)"
   ]
  },
  {
   "cell_type": "code",
   "execution_count": null,
   "metadata": {},
   "outputs": [],
   "source": [
    "for i in names:\n",
    "    plotter(i)"
   ]
  },
  {
   "cell_type": "code",
   "execution_count": null,
   "metadata": {},
   "outputs": [],
   "source": []
  }
 ],
 "metadata": {
  "kernelspec": {
   "display_name": "fibad",
   "language": "python",
   "name": "python3"
  },
  "language_info": {
   "codemirror_mode": {
    "name": "ipython",
    "version": 3
   },
   "file_extension": ".py",
   "mimetype": "text/x-python",
   "name": "python",
   "nbconvert_exporter": "python",
   "pygments_lexer": "ipython3",
   "version": "3.12.8"
  }
 },
 "nbformat": 4,
 "nbformat_minor": 2
}
