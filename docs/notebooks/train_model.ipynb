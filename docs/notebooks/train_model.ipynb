{
 "cells": [
  {
   "cell_type": "markdown",
   "metadata": {},
   "source": [
    "# Intro to Training and Configurations\n",
    "\n",
    "First we import fibad and create a new fibad object, instantiated (implicitly), with the default configuration file."
   ]
  },
  {
   "cell_type": "code",
   "execution_count": null,
   "metadata": {},
   "outputs": [],
   "source": [
    "import fibad\n",
    "\n",
    "fibad_instance = fibad.Fibad(config_file=\"/Users/drew/code/fibad/drews_config.toml\")"
   ]
  },
  {
   "cell_type": "markdown",
   "metadata": {},
   "source": [
    "For this demo, we'll make a few adjustments to the default configuration settings that the `fibad` object was instantiated with. By accessing the `.config` attribute of the fibad instance, we can modify any configuration value. Here we change which built in model to use, the dataset, batch size, number of epochs for training."
   ]
  },
  {
   "cell_type": "code",
   "execution_count": null,
   "metadata": {},
   "outputs": [],
   "source": [
    "fibad_instance.config[\"model\"][\"name\"] = \"ExampleAutoencoder\"\n",
    "fibad_instance.config[\"data_set\"][\"name\"] = \"HSCDataSet\"\n",
    "fibad_instance.config[\"data_loader\"][\"batch_size\"] = 64\n",
    "fibad_instance.config[\"train\"][\"epochs\"] = 20"
   ]
  },
  {
   "cell_type": "markdown",
   "metadata": {},
   "source": [
    "We call the `.train()` method to train the model"
   ]
  },
  {
   "cell_type": "code",
   "execution_count": null,
   "metadata": {},
   "outputs": [],
   "source": [
    "fibad_instance.train()"
   ]
  },
  {
   "cell_type": "markdown",
   "metadata": {},
   "source": [
    "The output of the training will be stored in a time-stamped directory under the `./results/`. By default, a copy of the final configuration used in training is persisted as `runtime_config.toml`. To run fibad again with the same configuration, you can reference the runtime_config.toml file.\n",
    "\n",
    "If running in another notebook, instantiate a fibad object like so:\n",
    "```\n",
    "new_fibad_instance = fibad.Fibad(config_file='./results/<timestamped_directory>/runtime_config.toml')\n",
    "```\n",
    "\n",
    "Or from the command line:\n",
    "```\n",
    ">> fibad train --runtime-config ./results/<timestamped_directory>/runtime_config.toml\n",
    "```"
   ]
  },
  {
   "cell_type": "code",
   "execution_count": null,
   "metadata": {},
   "outputs": [],
   "source": [
    "%load_ext tensorboard"
   ]
  },
  {
   "cell_type": "code",
   "execution_count": null,
   "metadata": {},
   "outputs": [],
   "source": [
    "%tensorboard --logdir ./results\n",
    "\n",
    "# if running on a remote server, and tunnelling a connection,\n",
    "# pass the --bind-all flag\n",
    "# %tensorboard --logdir ./results --bind_all\n",
    "# and then forward the selected port to your local machine"
   ]
  },
  {
   "cell_type": "code",
   "execution_count": null,
   "metadata": {},
   "outputs": [],
   "source": [
    "fibad_instance.config[\"predict\"][\n",
    "    \"model_weights_file\"\n",
    "] = \"/Users/drew/code/fibad/docs/notebooks/results/20241216-110118-train/example_model.pth\"\n",
    "fibad_instance.config[\"predict\"][\"split\"] = \"test\"\n",
    "fibad_instance.config[\"data_set\"][\"test_size\"] = 1.0\n",
    "fibad_instance.config[\"data_set\"][\"train_size\"] = 0.0\n",
    "fibad_instance.config[\"data_set\"][\"validate_size\"] = 0.0\n",
    "fibad_instance.config[\"data_loader\"][\"batch_size\"] = 128"
   ]
  },
  {
   "cell_type": "code",
   "execution_count": null,
   "metadata": {},
   "outputs": [],
   "source": [
    "fibad_instance.predict()"
   ]
  },
  {
   "cell_type": "code",
   "execution_count": null,
   "metadata": {},
   "outputs": [],
   "source": [
    "prepped_output = fibad_instance.prepare()"
   ]
  },
  {
   "cell_type": "code",
   "execution_count": null,
   "metadata": {},
   "outputs": [],
   "source": [
    "import chromadb\n",
    "\n",
    "client = chromadb.PersistentClient(path=\"/Users/drew/code/fibad/docs/notebooks/results/vdb\")"
   ]
  },
  {
   "cell_type": "code",
   "execution_count": null,
   "metadata": {},
   "outputs": [],
   "source": [
    "collection = client.get_collection(\"fibad_collection\")"
   ]
  },
  {
   "cell_type": "code",
   "execution_count": null,
   "metadata": {},
   "outputs": [],
   "source": [
    "import numpy as np\n",
    "\n",
    "a = np.load(\"/Users/drew/code/fibad/docs/notebooks/results/20241216-155404-predict/0.npy\")"
   ]
  },
  {
   "cell_type": "code",
   "execution_count": null,
   "metadata": {},
   "outputs": [],
   "source": [
    "# 97 is a cool example\n",
    "\n",
    "query_results = collection.query(\n",
    "    query_embeddings=[a[67]],\n",
    "    n_results=10,\n",
    ")\n",
    "\n",
    "print(query_results[\"distances\"])"
   ]
  },
  {
   "cell_type": "code",
   "execution_count": null,
   "metadata": {},
   "outputs": [],
   "source": [
    "metadatas = query_results[\"metadatas\"]\n",
    "\n",
    "files_to_plot = []\n",
    "for m in metadatas[0]:\n",
    "    files = prepped_output.container.files[int(m[\"filename\"])]\n",
    "    g_file = files[\"HSC-G\"]\n",
    "    files_to_plot.append(g_file[:-11])"
   ]
  },
  {
   "cell_type": "code",
   "execution_count": null,
   "metadata": {},
   "outputs": [],
   "source": [
    "import numpy as np\n",
    "import matplotlib.pyplot as plt\n",
    "from astropy.io import fits\n",
    "\n",
    "\n",
    "# Function to normalize the data to the range [0, 1]\n",
    "def normalize(data):\n",
    "    data_min = np.min(data)\n",
    "    data_max = np.max(data)\n",
    "    return (data - data_min) / (data_max - data_min)\n",
    "\n",
    "\n",
    "def plotter(file_name):\n",
    "    # Read the FITS files\n",
    "    base_path = \"/Users/drew/code/fibad/docs/notebooks/data/hsc_example/hsc_8asec_1000/\"\n",
    "    fits_file_r = base_path + file_name + \"_HSC-I.fits\"\n",
    "    fits_file_g = base_path + file_name + \"_HSC-R.fits\"\n",
    "    fits_file_b = base_path + file_name + \"_HSC-G.fits\"\n",
    "\n",
    "    data_r = fits.getdata(fits_file_r)\n",
    "    data_g = fits.getdata(fits_file_g)\n",
    "    data_b = fits.getdata(fits_file_b)\n",
    "\n",
    "    # Normalize the data\n",
    "    data_r = normalize(data_r)\n",
    "    data_g = normalize(data_g)\n",
    "    data_b = normalize(data_b)\n",
    "\n",
    "    # Combine the data into an RGB image\n",
    "    rgb_image = np.zeros((data_r.shape[0], data_r.shape[1], 3))\n",
    "    rgb_image[..., 0] = data_r  # Red channel\n",
    "    rgb_image[..., 1] = data_g  # Green channel\n",
    "    rgb_image[..., 2] = data_b  # Blue channel\n",
    "\n",
    "    # Display the image\n",
    "    plt.imshow(rgb_image, origin=\"lower\")\n",
    "    plt.axis(\"off\")  # Hide the axis\n",
    "    plt.show()\n",
    "\n",
    "\n",
    "for file_name in files_to_plot:\n",
    "    plotter(file_name)"
   ]
  },
  {
   "cell_type": "code",
   "execution_count": null,
   "metadata": {},
   "outputs": [],
   "source": []
  },
  {
   "cell_type": "code",
   "execution_count": null,
   "metadata": {},
   "outputs": [],
   "source": []
  }
 ],
 "metadata": {
  "kernelspec": {
   "display_name": "fibad",
   "language": "python",
   "name": "python3"
  },
  "language_info": {
   "codemirror_mode": {
    "name": "ipython",
    "version": 3
   },
   "file_extension": ".py",
   "mimetype": "text/x-python",
   "name": "python",
   "nbconvert_exporter": "python",
   "pygments_lexer": "ipython3",
   "version": "3.11.10"
  }
 },
 "nbformat": 4,
 "nbformat_minor": 2
}
