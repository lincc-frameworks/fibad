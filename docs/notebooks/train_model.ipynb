{
 "cells": [
  {
   "cell_type": "markdown",
   "metadata": {},
   "source": [
    "# FIBAD Getting Started\n",
    "\n",
    "In this getting started notebook we'll create an instance of a FIBAD object, train a builtin model on the CiFAR training dataset, and then use that trained model to run inference on the CiFAR testing dataset."
   ]
  },
  {
   "cell_type": "markdown",
   "metadata": {},
   "source": [
    "## Create a FIBAD instance"
   ]
  },
  {
   "cell_type": "code",
   "execution_count": null,
   "metadata": {},
   "outputs": [],
   "source": [
    "import fibad\n",
    "\n",
    "f = fibad.Fibad()"
   ]
  },
  {
   "cell_type": "markdown",
   "metadata": {},
   "source": [
    "## Update the configuration"
   ]
  },
  {
   "cell_type": "code",
   "execution_count": null,
   "metadata": {},
   "outputs": [],
   "source": [
    "f.config[\"model\"][\"name\"] = \"ExampleAutoencoder\""
   ]
  },
  {
   "cell_type": "markdown",
   "metadata": {},
   "source": [
    "For this demo, we'll make a few adjustments to the default configuration settings that the `fibad` object was instantiated with.\n",
    "By accessing the `.config` attribute of the fibad instance, we can modify any configuration value.\n",
    "There are many configuration values that can be set, but here, we update only the model to train."
   ]
  },
  {
   "cell_type": "markdown",
   "metadata": {},
   "source": [
    "## Train a model"
   ]
  },
  {
   "cell_type": "code",
   "execution_count": null,
   "metadata": {},
   "outputs": [],
   "source": [
    "f.train()"
   ]
  },
  {
   "cell_type": "markdown",
   "metadata": {},
   "source": [
    "The output of the training will be stored in a time-stamped directory under the `./results/`.\n",
    "By default, a copy of the final configuration used in training is persisted as `runtime_config.toml`.\n",
    "To run fibad again with the same configuration, you can reference this runtime_config.toml file.\n",
    "\n",
    "If running in another notebook, instantiate a fibad object like so:\n",
    "```\n",
    "new_fibad_instance = fibad.Fibad(config_file='./results/<timestamped_directory>/runtime_config.toml')\n",
    "```\n",
    "\n",
    "Or from the command line:\n",
    "```\n",
    ">> fibad train --runtime-config ./results/<timestamped_directory>/runtime_config.toml\n",
    "```\n",
    "\n",
    "Note here we're training on only a small handful of CiFAR data, but FIBAD has demonstrated that it can scale up to training sets with >1M samples."
   ]
  },
  {
   "cell_type": "markdown",
   "metadata": {},
   "source": [
    "## Run inference"
   ]
  },
  {
   "cell_type": "code",
   "execution_count": null,
   "metadata": {},
   "outputs": [],
   "source": [
    "f.config[\"data_set\"][\"test_size\"] = 1.0\n",
    "f.config[\"data_set\"][\"train_size\"] = 0.0\n",
    "f.config[\"data_set\"][\"validate_size\"] = 0.0\n",
    "f.config[\"data_loader\"][\"batch_size\"] = 128\n",
    "\n",
    "f.infer()"
   ]
  },
  {
   "cell_type": "markdown",
   "metadata": {},
   "source": [
    "Once a model has been trained, we can use the model weights file to run inference.\n",
    "By default running `infer` will look for the latest available model weights file.\n",
    "A specific model weights file can be specified with `f.config['infer']['model_weights_file'] = <path_to_model_weights_file>`.\n",
    "\n",
    "Here we'll make use of the last trained model weights file, and update the data set splits so that 100% of the data will be used for inference.\n",
    "\n",
    "With the configuration updated, we can run inference by calling `f.infer()`.\n",
    "\n",
    "The results of running inference are saved in the output directory noted in the last log line.\n",
    "The default output format is batched .npy files.\n",
    "Additionally a ChromaDB vector database will be populated with the inference results to enable efficient similarity search."
   ]
  }
 ],
 "metadata": {
  "kernelspec": {
   "display_name": "fibad",
   "language": "python",
   "name": "python3"
  },
  "language_info": {
   "codemirror_mode": {
    "name": "ipython",
    "version": 3
   },
   "file_extension": ".py",
   "mimetype": "text/x-python",
   "name": "python",
   "nbconvert_exporter": "python",
   "pygments_lexer": "ipython3",
   "version": "3.12.8"
  }
 },
 "nbformat": 4,
 "nbformat_minor": 2
}
