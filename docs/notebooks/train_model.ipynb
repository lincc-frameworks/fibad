{
 "cells": [
  {
   "cell_type": "markdown",
   "metadata": {},
   "source": [
    "# Intro to Training and Configurations\n",
    "\n",
    "First we import fibad and create a new fibad object, instantiated (implicitly), with the default configuration file."
   ]
  },
  {
   "cell_type": "code",
   "execution_count": null,
   "metadata": {},
   "outputs": [],
   "source": [
    "import fibad\n",
    "\n",
    "fibad_instance = fibad.Fibad()"
   ]
  },
  {
   "cell_type": "markdown",
   "metadata": {},
   "source": [
    "For this demo, we'll make a few adjustments to the default configuration settings that the `fibad` object was instantiated with. By accessing the `.config` attribute of the fibad instance, we can modify any configuration value. Here we change which built in model to use, the dataset, batch size, number of epochs for training."
   ]
  },
  {
   "cell_type": "code",
   "execution_count": null,
   "metadata": {},
   "outputs": [],
   "source": [
    "fibad_instance.config[\"model\"][\"name\"] = \"ExampleCNN\"\n",
    "fibad_instance.config[\"data_set\"][\"name\"] = \"CifarDataSet\"\n",
    "fibad_instance.config[\"data_loader\"][\"batch_size\"] = 64\n",
    "fibad_instance.config[\"train\"][\"epochs\"] = 2"
   ]
  },
  {
   "cell_type": "markdown",
   "metadata": {},
   "source": [
    "We call the `.train()` method to train the model"
   ]
  },
  {
   "cell_type": "code",
   "execution_count": null,
   "metadata": {},
   "outputs": [],
   "source": [
    "fibad_instance.train()"
   ]
  },
  {
   "cell_type": "markdown",
   "metadata": {},
   "source": [
    "The output of the training will be stored in a time-stamped directory under the `./results/`. By default, a copy of the final configuration used in training is persisted as `runtime_config.toml`. To run fibad again with the same configuration, you can reference the runtime_config.toml file.\n",
    "\n",
    "If running in another notebook, instantiate a fibad object like so:\n",
    "```\n",
    "new_fibad_instance = fibad.Fibad(config_file='./results/<timestamped_directory>/runtime_config.toml')\n",
    "```\n",
    "\n",
    "Or from the command line:\n",
    "```\n",
    ">> fibad train --runtime-config ./results/<timestamped_directory>/runtime_config.toml\n",
    "```"
   ]
  },
  {
   "cell_type": "markdown",
   "metadata": {},
   "source": [
    "Fibad automatically records training metrics so that they can be examined using Tensorboard."
   ]
  },
  {
   "cell_type": "code",
   "execution_count": null,
   "metadata": {},
   "outputs": [],
   "source": [
    "%reload_ext tensorboard\n",
    "%tensorboard --logdir ./results\n",
    "\n",
    "# If you are running on a remote server and want to run tensorboard there;\n",
    "# you need to pass additional argments for port forwarding to work.\n",
    "# For example\n",
    "# %tensorboard --logdir ./results --bind_all --port 8888\n",
    "# will start tensorboard on port 8888 and you may need to forward that\n",
    "# port to your local machine using\n",
    "# ssh -N -L 8888:<name_of_machine>:8888 <username@server.com>"
   ]
  },
  {
   "cell_type": "markdown",
   "metadata": {},
   "source": [
    "Once a model has been trained, we can use the model weights file to run inference on. Here we update the configuration in the `fibad_instance` object to specify that we want to use a specific model weights file, and that we want our dataset to be 100% test data.\n",
    "\n",
    "If you are running this locally, you'll need to update the path to your local model weights file."
   ]
  },
  {
   "cell_type": "code",
   "execution_count": null,
   "metadata": {},
   "outputs": [],
   "source": [
    "# Set this to the path of the example.pth file that was created by the call to fibad_instance.train().\n",
    "# It should be something like `.../results/<timestamp>-train/example_model.pth`.\n",
    "fibad_instance.config[\"infer\"][\"model_weights_file\"] = \"\"\n",
    "\n",
    "fibad_instance.config[\"data_set\"][\"test_size\"] = 1.0\n",
    "fibad_instance.config[\"data_set\"][\"train_size\"] = 0.0\n",
    "fibad_instance.config[\"data_set\"][\"validate_size\"] = 0.0\n",
    "fibad_instance.config[\"data_loader\"][\"batch_size\"] = 128"
   ]
  },
  {
   "cell_type": "markdown",
   "metadata": {},
   "source": [
    "The following will run inference on the specified dataset."
   ]
  },
  {
   "cell_type": "code",
   "execution_count": null,
   "metadata": {},
   "outputs": [],
   "source": [
    "# Uncomment the following line after setting the model_weights_file in the previous cell\n",
    "\n",
    "# fibad_instance.infer()"
   ]
  },
  {
   "cell_type": "markdown",
   "metadata": {},
   "source": [
    "TODO: Add a cell to plot a confusion matrix."
   ]
  }
 ],
 "metadata": {
  "kernelspec": {
   "display_name": "fibad",
   "language": "python",
   "name": "python3"
  },
  "language_info": {
   "codemirror_mode": {
    "name": "ipython",
    "version": 3
   },
   "file_extension": ".py",
   "mimetype": "text/x-python",
   "name": "python",
   "nbconvert_exporter": "python",
   "pygments_lexer": "ipython3",
   "version": "3.12.8"
  }
 },
 "nbformat": 4,
 "nbformat_minor": 2
}
